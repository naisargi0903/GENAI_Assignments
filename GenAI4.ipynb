{
  "nbformat": 4,
  "nbformat_minor": 0,
  "metadata": {
    "colab": {
      "provenance": []
    },
    "kernelspec": {
      "name": "python3",
      "display_name": "Python 3"
    },
    "language_info": {
      "name": "python"
    }
  },
  "cells": [
    {
      "cell_type": "code",
      "source": [
        "# Step 1: Install required libraries\n",
        "!pip install transformers datasets torch"
      ],
      "metadata": {
        "id": "QxlY0nOscIZb"
      },
      "execution_count": null,
      "outputs": []
    },
    {
      "cell_type": "code",
      "execution_count": null,
      "metadata": {
        "colab": {
          "base_uri": "https://localhost:8080/"
        },
        "id": "_Sy-YHOaajfY",
        "outputId": "17533874-d73e-4777-81bf-4e5bc62c74ce"
      },
      "outputs": [
        {
          "output_type": "stream",
          "name": "stderr",
          "text": [
            "Some weights of the model checkpoint at bert-large-uncased-whole-word-masking-finetuned-squad were not used when initializing BertForQuestionAnswering: ['bert.pooler.dense.bias', 'bert.pooler.dense.weight']\n",
            "- This IS expected if you are initializing BertForQuestionAnswering from the checkpoint of a model trained on another task or with another architecture (e.g. initializing a BertForSequenceClassification model from a BertForPreTraining model).\n",
            "- This IS NOT expected if you are initializing BertForQuestionAnswering from the checkpoint of a model that you expect to be exactly identical (initializing a BertForSequenceClassification model from a BertForSequenceClassification model).\n",
            "Device set to use cpu\n"
          ]
        },
        {
          "output_type": "stream",
          "name": "stdout",
          "text": [
            "\n",
            "Welcome to the QA Chatbot! Type 'exit' to stop.\n",
            "\n",
            "Enter context: Albert Einstein was a German-born theoretical physicist who developed the theory of relativity. He is best known for his mass-energy equivalence formula, E = mc².\n",
            "Enter your question: What is Albert Einstein best known for?\n",
            "Answer: his mass-energy equivalence formula \n",
            "\n",
            "Enter context: The Eiffel Tower is a wrought-iron lattice tower located in Paris, France. It was designed by Gustave Eiffel and completed in 1889. The tower is one of the most recognizable structures in the world and attracts millions of visitors annually.\n",
            "Enter your question: Who designed the Eiffel Tower?\n",
            "Answer: Gustave Eiffel \n",
            "\n",
            "Enter context: exit\n",
            "Exiting the chatbot. Goodbye!\n"
          ]
        }
      ],
      "source": [
        "# Step 2: Import dependencies\n",
        "import torch\n",
        "from transformers import pipeline\n",
        "\n",
        "# Step 3: Load a more advanced QA model\n",
        "qa_pipeline = pipeline(\n",
        "    \"question-answering\",\n",
        "    model=\"bert-large-uncased-whole-word-masking-finetuned-squad\",\n",
        "    tokenizer=\"bert-large-uncased-whole-word-masking-finetuned-squad\"\n",
        ")\n",
        "\n",
        "# Step 4: Define a function for QA\n",
        "def answer_question(context, question):\n",
        "    try:\n",
        "        # Ensure the context and question are not empty\n",
        "        if not context.strip() or not question.strip():\n",
        "            return \"Error: Context or question cannot be empty.\"\n",
        "\n",
        "        # Get the answer from the QA pipeline\n",
        "        result = qa_pipeline(question=question, context=context)\n",
        "        return result[\"answer\"]\n",
        "    except Exception as e:\n",
        "        return f\"Error: {str(e)}\"\n",
        "\n",
        "# Interactive chatbot loop\n",
        "print(\"\\nWelcome to the QA Chatbot! Type 'exit' to stop.\\n\")\n",
        "\n",
        "while True:\n",
        "    # Input context\n",
        "    context = input(\"Enter context: \")\n",
        "    if context.lower() == 'exit':\n",
        "        print(\"Exiting the chatbot. Goodbye!\")\n",
        "        break\n",
        "\n",
        "    # Input question\n",
        "    question = input(\"Enter your question: \")\n",
        "    if question.lower() == 'exit':\n",
        "        print(\"Exiting the chatbot. Goodbye!\")\n",
        "        break\n",
        "\n",
        "    # Get and display the answer\n",
        "    answer = answer_question(context, question)\n",
        "    print(\"Answer:\", answer, \"\\n\")"
      ]
    }
  ]
}